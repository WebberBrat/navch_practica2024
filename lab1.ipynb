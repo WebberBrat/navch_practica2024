{
 "cells": [
  {
   "cell_type": "markdown",
   "id": "12e57c5d",
   "metadata": {},
   "source": [
    "# Remove all special symbols"
   ]
  },
  {
   "cell_type": "code",
   "execution_count": 8,
   "id": "926449d0",
   "metadata": {},
   "outputs": [
    {
     "name": "stdout",
     "output_type": "stream",
     "text": [
      "Hello How are you Im fine thank you\n"
     ]
    }
   ],
   "source": [
    "import re\n",
    "\n",
    "\n",
    "text = \"Hello! How are you? I'm fine, thank you.\"\n",
    "\n",
    "pattern = r'[^\\w\\s]'\n",
    "\n",
    "clean_text = re.sub(pattern, '', text)\n",
    "\n",
    "print(clean_text)"
   ]
  },
  {
   "cell_type": "code",
   "execution_count": 18,
   "id": "3e90eb4f",
   "metadata": {},
   "outputs": [
    {
     "name": "stdout",
     "output_type": "stream",
     "text": [
      "brown\n",
      "quick\n",
      "bees\n"
     ]
    }
   ],
   "source": [
    "text = \"The quick brown fox jumps over the lazy dog, bees\"\n",
    "\n",
    "pattern = r'\\b\\w*o\\w*\\b'\n",
    "\n",
    "match = re.search(pattern, text)\n",
    "\n",
    "if match:\n",
    "    print(match.group())\n",
    "else:\n",
    "    print(\"No match found.\")\n",
    "\n",
    "\n",
    "n = 5\n",
    "\n",
    "pattern = r'\\b\\w{' + str(n) + r'}\\b'\n",
    "\n",
    "match = re.search(pattern, text)\n",
    "\n",
    "if match:\n",
    "    print(match.group())\n",
    "else:\n",
    "    print(\"No match found.\")\n",
    "\n",
    "pattern = r'\\b[a|b]\\w*s\\b'\n",
    "\n",
    "matches = re.search(pattern, text)\n",
    "\n",
    "if matches:\n",
    "    print(matches.group())\n",
    "else:\n",
    "    print(\"No match found.\")\n",
    "    \n",
    "    "
   ]
  },
  {
   "cell_type": "code",
   "execution_count": 57,
   "id": "2a69f2d0",
   "metadata": {},
   "outputs": [
    {
     "name": "stdout",
     "output_type": "stream",
     "text": [
      "523.45\n"
     ]
    }
   ],
   "source": [
    "text = 'first money ammount is $123.45 and the second one is $400' \n",
    "pattern = r'\\$[0-9]+(?:\\.[0-9]{2})?'\n",
    "\n",
    "\n",
    "monetary_amounts = []\n",
    "amounts = re.findall(pattern, text)\n",
    "monetary_amounts.extend(amounts)\n",
    "\n",
    "for i in range(0, len(monetary_amounts)):\n",
    "    monetary_amounts[i] = float(monetary_amounts[i][1:])\n",
    "print(sum(monetary_amounts))"
   ]
  },
  {
   "cell_type": "code",
   "execution_count": 69,
   "id": "d152acb4",
   "metadata": {},
   "outputs": [
    {
     "name": "stdout",
     "output_type": "stream",
     "text": [
      "def hello_world():\n",
      "    print(\"Hello, World!\")  \n",
      "\n"
     ]
    }
   ],
   "source": [
    "import re\n",
    "\n",
    "def remove_blank_lines_and_comments(code):\n",
    "    code = re.sub(r'#.*$', '', code, flags=re.MULTILINE)\n",
    "\n",
    "    code = re.sub(r'(\\'\\'\\'[\\s\\S]*?\\'\\'\\'|\\\"\\\"\\\"[\\s\\S]*?\\\"\\\"\\\")', '', code, flags=re.MULTILINE)\n",
    "\n",
    "    code = re.sub(r'^\\s*\\n', '', code, flags=re.MULTILINE)\n",
    "    return code\n",
    "\n",
    "python_code = \"\"\"\n",
    "def hello_world():\n",
    "    # This is a comment\n",
    "    print(\"Hello, World!\")  # This is also a comment\n",
    "\n",
    "# This is a multi-line comment\n",
    "'''\n",
    "This is a multi-line comment\n",
    "'''\n",
    "\n",
    "# This is another multi-line comment\n",
    "\\\"\\\"\\\"\n",
    "This is another multi-line comment\n",
    "\\\"\\\"\\\"\n",
    "\n",
    "\"\"\"\n",
    "cleaned_code = remove_blank_lines_and_comments(python_code)\n",
    "print(cleaned_code)"
   ]
  },
  {
   "cell_type": "code",
   "execution_count": 70,
   "id": "f7f9c9c0",
   "metadata": {},
   "outputs": [
    {
     "name": "stdout",
     "output_type": "stream",
     "text": [
      "31-01-2022\n"
     ]
    }
   ],
   "source": [
    "import re\n",
    "\n",
    "def convert_date_format(date_str):\n",
    "    pattern = r'(\\d{4})-(\\d{2})-(\\d{2})'\n",
    "\n",
    "    new_date_str = re.sub(pattern, r'\\3-\\2-\\1', date_str)\n",
    "\n",
    "    return new_date_str\n",
    "\n",
    "date_str = '2022-01-31'\n",
    "new_date_str = convert_date_format(date_str)\n",
    "print(new_date_str) "
   ]
  },
  {
   "cell_type": "code",
   "execution_count": null,
   "id": "b9350d00",
   "metadata": {},
   "outputs": [],
   "source": []
  }
 ],
 "metadata": {
  "kernelspec": {
   "display_name": "Python 3 (ipykernel)",
   "language": "python",
   "name": "python3"
  },
  "language_info": {
   "codemirror_mode": {
    "name": "ipython",
    "version": 3
   },
   "file_extension": ".py",
   "mimetype": "text/x-python",
   "name": "python",
   "nbconvert_exporter": "python",
   "pygments_lexer": "ipython3",
   "version": "3.10.9"
  }
 },
 "nbformat": 4,
 "nbformat_minor": 5
}
